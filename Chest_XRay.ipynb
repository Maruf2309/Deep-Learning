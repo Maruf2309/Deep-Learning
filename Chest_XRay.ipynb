{
  "nbformat": 4,
  "nbformat_minor": 0,
  "metadata": {
    "colab": {
      "provenance": []
    },
    "kernelspec": {
      "name": "python3",
      "display_name": "Python 3"
    },
    "language_info": {
      "name": "python"
    },
    "accelerator": "GPU",
    "gpuClass": "standard"
  },
  "cells": [
    {
      "cell_type": "markdown",
      "source": [
        "# Chest Xray for Phenumonia Prediction"
      ],
      "metadata": {
        "id": "2niJI0LehnCx"
      }
    },
    {
      "cell_type": "markdown",
      "source": [
        "# Import Libraries"
      ],
      "metadata": {
        "id": "QJiyWunFhukt"
      }
    },
    {
      "cell_type": "code",
      "execution_count": 1,
      "metadata": {
        "id": "uAAM43xBhbEu"
      },
      "outputs": [],
      "source": [
        "import pandas as pd\n",
        "import numpy as np\n",
        "import matplotlib.pyplot as plt\n",
        "import tensorflow as tf\n"
      ]
    },
    {
      "cell_type": "code",
      "source": [
        "from google.colab import drive\n",
        "drive.mount('/content.drive')\n",
        "drive.mount('/content/drive', force_remount=True)  # To Fix transport endpoint not connected issue"
      ],
      "metadata": {
        "colab": {
          "base_uri": "https://localhost:8080/"
        },
        "id": "WI1D1youiDWm",
        "outputId": "14368da1-9d40-4a8c-ccb4-486a4a8e2828"
      },
      "execution_count": 2,
      "outputs": [
        {
          "output_type": "stream",
          "name": "stdout",
          "text": [
            "Mounted at /content.drive\n",
            "Mounted at /content/drive\n"
          ]
        }
      ]
    },
    {
      "cell_type": "markdown",
      "source": [
        "# Load Images"
      ],
      "metadata": {
        "id": "rHg1oiqdicpe"
      }
    },
    {
      "cell_type": "markdown",
      "source": [
        "## Data For Training - Processing"
      ],
      "metadata": {
        "id": "pzmF0pDEihHD"
      }
    },
    {
      "cell_type": "code",
      "source": [
        "train_data_gen = tf.keras.preprocessing.image.ImageDataGenerator (\n",
        "    rescale = 1/255.0\n",
        ")   # Creating an object, that just hold the data, 1 image. \n",
        "\n",
        "train_images = train_data_gen.flow_from_directory(             \n",
        "    'drive/MyDrive/Dataset/chest_xray/train',      \n",
        "    batch_size = 32,\n",
        "    target_size = (228, 228)\n",
        ")\n"
      ],
      "metadata": {
        "colab": {
          "base_uri": "https://localhost:8080/"
        },
        "id": "OpNZuicbieL2",
        "outputId": "ec16f4e7-110d-4734-a061-50dae899a1b5"
      },
      "execution_count": 3,
      "outputs": [
        {
          "output_type": "stream",
          "name": "stdout",
          "text": [
            "Found 5238 images belonging to 2 classes.\n"
          ]
        }
      ]
    },
    {
      "cell_type": "code",
      "source": [
        "valid_data_gen = tf.keras.preprocessing.image.ImageDataGenerator (\n",
        "    rescale = 1 / 255.0     # 1/255 works little better, any value can be applied, depending dataset can be differet, 1 mean 1 imamge\n",
        ") \n",
        "\n",
        "valid_images = valid_data_gen.flow_from_directory (\n",
        "    'drive/MyDrive/Dataset/chest_xray/test',\n",
        "    batch_size = 26,                             # total 624 image, which I want to keep in 26 batch so divided by 26\n",
        "    target_size = (228, 228)\n",
        "\n",
        ")"
      ],
      "metadata": {
        "id": "L3ZmmEtFl7B9",
        "colab": {
          "base_uri": "https://localhost:8080/"
        },
        "outputId": "6c3b76a5-5199-4d41-aee9-e97c62523156"
      },
      "execution_count": 4,
      "outputs": [
        {
          "output_type": "stream",
          "name": "stdout",
          "text": [
            "Found 624 images belonging to 2 classes.\n"
          ]
        }
      ]
    },
    {
      "cell_type": "code",
      "source": [
        "next(valid_images)[1]  # in output where 1 indicates that the disease belong to that class, lables properly stored in one hot encoded"
      ],
      "metadata": {
        "id": "8diDOkuknLOj",
        "colab": {
          "base_uri": "https://localhost:8080/"
        },
        "outputId": "ad3b41af-1df9-4edd-abab-92906224a504"
      },
      "execution_count": 5,
      "outputs": [
        {
          "output_type": "execute_result",
          "data": {
            "text/plain": [
              "array([[1., 0.],\n",
              "       [0., 1.],\n",
              "       [0., 1.],\n",
              "       [0., 1.],\n",
              "       [0., 1.],\n",
              "       [0., 1.],\n",
              "       [0., 1.],\n",
              "       [1., 0.],\n",
              "       [1., 0.],\n",
              "       [1., 0.],\n",
              "       [0., 1.],\n",
              "       [1., 0.],\n",
              "       [1., 0.],\n",
              "       [0., 1.],\n",
              "       [1., 0.],\n",
              "       [0., 1.],\n",
              "       [0., 1.],\n",
              "       [0., 1.],\n",
              "       [0., 1.],\n",
              "       [0., 1.],\n",
              "       [0., 1.],\n",
              "       [0., 1.],\n",
              "       [1., 0.],\n",
              "       [0., 1.],\n",
              "       [1., 0.],\n",
              "       [1., 0.]], dtype=float32)"
            ]
          },
          "metadata": {},
          "execution_count": 5
        }
      ]
    },
    {
      "cell_type": "code",
      "source": [
        "next(valid_images) [0] # Image stored when index 0"
      ],
      "metadata": {
        "colab": {
          "base_uri": "https://localhost:8080/"
        },
        "id": "kbMjosVyj42V",
        "outputId": "0591a4e6-4898-41e6-fc51-fb07f83e4932"
      },
      "execution_count": 6,
      "outputs": [
        {
          "output_type": "execute_result",
          "data": {
            "text/plain": [
              "array([[[[0.00784314, 0.00784314, 0.00784314],\n",
              "         [0.02745098, 0.02745098, 0.02745098],\n",
              "         [0.04313726, 0.04313726, 0.04313726],\n",
              "         ...,\n",
              "         [0.        , 0.        , 0.        ],\n",
              "         [0.        , 0.        , 0.        ],\n",
              "         [0.        , 0.        , 0.        ]],\n",
              "\n",
              "        [[0.01176471, 0.01176471, 0.01176471],\n",
              "         [0.02352941, 0.02352941, 0.02352941],\n",
              "         [0.04705883, 0.04705883, 0.04705883],\n",
              "         ...,\n",
              "         [0.00392157, 0.00392157, 0.00392157],\n",
              "         [0.        , 0.        , 0.        ],\n",
              "         [0.        , 0.        , 0.        ]],\n",
              "\n",
              "        [[0.00392157, 0.00392157, 0.00392157],\n",
              "         [0.03137255, 0.03137255, 0.03137255],\n",
              "         [0.04313726, 0.04313726, 0.04313726],\n",
              "         ...,\n",
              "         [0.        , 0.        , 0.        ],\n",
              "         [0.        , 0.        , 0.        ],\n",
              "         [0.        , 0.        , 0.        ]],\n",
              "\n",
              "        ...,\n",
              "\n",
              "        [[0.        , 0.        , 0.        ],\n",
              "         [0.        , 0.        , 0.        ],\n",
              "         [0.        , 0.        , 0.        ],\n",
              "         ...,\n",
              "         [0.        , 0.        , 0.        ],\n",
              "         [0.        , 0.        , 0.        ],\n",
              "         [0.        , 0.        , 0.        ]],\n",
              "\n",
              "        [[0.        , 0.        , 0.        ],\n",
              "         [0.        , 0.        , 0.        ],\n",
              "         [0.        , 0.        , 0.        ],\n",
              "         ...,\n",
              "         [0.        , 0.        , 0.        ],\n",
              "         [0.        , 0.        , 0.        ],\n",
              "         [0.        , 0.        , 0.        ]],\n",
              "\n",
              "        [[0.        , 0.        , 0.        ],\n",
              "         [0.        , 0.        , 0.        ],\n",
              "         [0.        , 0.        , 0.        ],\n",
              "         ...,\n",
              "         [0.        , 0.        , 0.        ],\n",
              "         [0.        , 0.        , 0.        ],\n",
              "         [0.        , 0.        , 0.        ]]],\n",
              "\n",
              "\n",
              "       [[[0.7960785 , 0.7960785 , 0.7960785 ],\n",
              "         [0.80392164, 0.80392164, 0.80392164],\n",
              "         [0.7411765 , 0.7411765 , 0.7411765 ],\n",
              "         ...,\n",
              "         [0.15294118, 0.15294118, 0.15294118],\n",
              "         [0.19607845, 0.19607845, 0.19607845],\n",
              "         [0.227451  , 0.227451  , 0.227451  ]],\n",
              "\n",
              "        [[0.80392164, 0.80392164, 0.80392164],\n",
              "         [0.8196079 , 0.8196079 , 0.8196079 ],\n",
              "         [0.45882356, 0.45882356, 0.45882356],\n",
              "         ...,\n",
              "         [0.16470589, 0.16470589, 0.16470589],\n",
              "         [0.2509804 , 0.2509804 , 0.2509804 ],\n",
              "         [0.28627452, 0.28627452, 0.28627452]],\n",
              "\n",
              "        [[0.8078432 , 0.8078432 , 0.8078432 ],\n",
              "         [0.82745105, 0.82745105, 0.82745105],\n",
              "         [0.31764707, 0.31764707, 0.31764707],\n",
              "         ...,\n",
              "         [0.14509805, 0.14509805, 0.14509805],\n",
              "         [0.27058825, 0.27058825, 0.27058825],\n",
              "         [0.25490198, 0.25490198, 0.25490198]],\n",
              "\n",
              "        ...,\n",
              "\n",
              "        [[0.0627451 , 0.0627451 , 0.0627451 ],\n",
              "         [0.0627451 , 0.0627451 , 0.0627451 ],\n",
              "         [0.0509804 , 0.0509804 , 0.0509804 ],\n",
              "         ...,\n",
              "         [0.07450981, 0.07450981, 0.07450981],\n",
              "         [0.07450981, 0.07450981, 0.07450981],\n",
              "         [0.07450981, 0.07450981, 0.07450981]],\n",
              "\n",
              "        [[0.0627451 , 0.0627451 , 0.0627451 ],\n",
              "         [0.0627451 , 0.0627451 , 0.0627451 ],\n",
              "         [0.0509804 , 0.0509804 , 0.0509804 ],\n",
              "         ...,\n",
              "         [0.07450981, 0.07450981, 0.07450981],\n",
              "         [0.07450981, 0.07450981, 0.07450981],\n",
              "         [0.07450981, 0.07450981, 0.07450981]],\n",
              "\n",
              "        [[0.0627451 , 0.0627451 , 0.0627451 ],\n",
              "         [0.0627451 , 0.0627451 , 0.0627451 ],\n",
              "         [0.0509804 , 0.0509804 , 0.0509804 ],\n",
              "         ...,\n",
              "         [0.07450981, 0.07450981, 0.07450981],\n",
              "         [0.07450981, 0.07450981, 0.07450981],\n",
              "         [0.07450981, 0.07450981, 0.07450981]]],\n",
              "\n",
              "\n",
              "       [[[0.00392157, 0.00392157, 0.00392157],\n",
              "         [0.        , 0.        , 0.        ],\n",
              "         [0.01568628, 0.01568628, 0.01568628],\n",
              "         ...,\n",
              "         [0.00784314, 0.00784314, 0.00784314],\n",
              "         [0.01568628, 0.01568628, 0.01568628],\n",
              "         [0.01568628, 0.01568628, 0.01568628]],\n",
              "\n",
              "        [[0.01568628, 0.01568628, 0.01568628],\n",
              "         [0.05882353, 0.05882353, 0.05882353],\n",
              "         [0.07843138, 0.07843138, 0.07843138],\n",
              "         ...,\n",
              "         [0.00392157, 0.00392157, 0.00392157],\n",
              "         [0.00784314, 0.00784314, 0.00784314],\n",
              "         [0.00784314, 0.00784314, 0.00784314]],\n",
              "\n",
              "        [[0.07450981, 0.07450981, 0.07450981],\n",
              "         [0.09411766, 0.09411766, 0.09411766],\n",
              "         [0.10980393, 0.10980393, 0.10980393],\n",
              "         ...,\n",
              "         [0.00784314, 0.00784314, 0.00784314],\n",
              "         [0.00392157, 0.00392157, 0.00392157],\n",
              "         [0.00784314, 0.00784314, 0.00784314]],\n",
              "\n",
              "        ...,\n",
              "\n",
              "        [[0.06666667, 0.06666667, 0.06666667],\n",
              "         [0.0627451 , 0.0627451 , 0.0627451 ],\n",
              "         [0.05882353, 0.05882353, 0.05882353],\n",
              "         ...,\n",
              "         [0.16078432, 0.16078432, 0.16078432],\n",
              "         [0.22352943, 0.22352943, 0.22352943],\n",
              "         [0.31764707, 0.31764707, 0.31764707]],\n",
              "\n",
              "        [[0.0627451 , 0.0627451 , 0.0627451 ],\n",
              "         [0.05882353, 0.05882353, 0.05882353],\n",
              "         [0.05882353, 0.05882353, 0.05882353],\n",
              "         ...,\n",
              "         [0.16470589, 0.16470589, 0.16470589],\n",
              "         [0.22352943, 0.22352943, 0.22352943],\n",
              "         [0.31764707, 0.31764707, 0.31764707]],\n",
              "\n",
              "        [[0.05882353, 0.05882353, 0.05882353],\n",
              "         [0.0509804 , 0.0509804 , 0.0509804 ],\n",
              "         [0.05882353, 0.05882353, 0.05882353],\n",
              "         ...,\n",
              "         [0.16470589, 0.16470589, 0.16470589],\n",
              "         [0.227451  , 0.227451  , 0.227451  ],\n",
              "         [0.32156864, 0.32156864, 0.32156864]]],\n",
              "\n",
              "\n",
              "       ...,\n",
              "\n",
              "\n",
              "       [[[0.0627451 , 0.0627451 , 0.0627451 ],\n",
              "         [0.13333334, 0.13333334, 0.13333334],\n",
              "         [0.18039216, 0.18039216, 0.18039216],\n",
              "         ...,\n",
              "         [0.15686275, 0.15686275, 0.15686275],\n",
              "         [0.14509805, 0.14509805, 0.14509805],\n",
              "         [0.1254902 , 0.1254902 , 0.1254902 ]],\n",
              "\n",
              "        [[0.06666667, 0.06666667, 0.06666667],\n",
              "         [0.1137255 , 0.1137255 , 0.1137255 ],\n",
              "         [0.16078432, 0.16078432, 0.16078432],\n",
              "         ...,\n",
              "         [0.16078432, 0.16078432, 0.16078432],\n",
              "         [0.15294118, 0.15294118, 0.15294118],\n",
              "         [0.11764707, 0.11764707, 0.11764707]],\n",
              "\n",
              "        [[0.0627451 , 0.0627451 , 0.0627451 ],\n",
              "         [0.1137255 , 0.1137255 , 0.1137255 ],\n",
              "         [0.16078432, 0.16078432, 0.16078432],\n",
              "         ...,\n",
              "         [0.15686275, 0.15686275, 0.15686275],\n",
              "         [0.13725491, 0.13725491, 0.13725491],\n",
              "         [0.1137255 , 0.1137255 , 0.1137255 ]],\n",
              "\n",
              "        ...,\n",
              "\n",
              "        [[0.00784314, 0.00784314, 0.00784314],\n",
              "         [0.06666667, 0.06666667, 0.06666667],\n",
              "         [0.06666667, 0.06666667, 0.06666667],\n",
              "         ...,\n",
              "         [0.09803922, 0.09803922, 0.09803922],\n",
              "         [0.09803922, 0.09803922, 0.09803922],\n",
              "         [0.10588236, 0.10588236, 0.10588236]],\n",
              "\n",
              "        [[0.01176471, 0.01176471, 0.01176471],\n",
              "         [0.06666667, 0.06666667, 0.06666667],\n",
              "         [0.07058824, 0.07058824, 0.07058824],\n",
              "         ...,\n",
              "         [0.09803922, 0.09803922, 0.09803922],\n",
              "         [0.10196079, 0.10196079, 0.10196079],\n",
              "         [0.09803922, 0.09803922, 0.09803922]],\n",
              "\n",
              "        [[0.01568628, 0.01568628, 0.01568628],\n",
              "         [0.0627451 , 0.0627451 , 0.0627451 ],\n",
              "         [0.07450981, 0.07450981, 0.07450981],\n",
              "         ...,\n",
              "         [0.09803922, 0.09803922, 0.09803922],\n",
              "         [0.10980393, 0.10980393, 0.10980393],\n",
              "         [0.10588236, 0.10588236, 0.10588236]]],\n",
              "\n",
              "\n",
              "       [[[0.08235294, 0.08235294, 0.08235294],\n",
              "         [0.08235294, 0.08235294, 0.08235294],\n",
              "         [0.08627451, 0.08627451, 0.08627451],\n",
              "         ...,\n",
              "         [0.18823531, 0.18823531, 0.18823531],\n",
              "         [0.20000002, 0.20000002, 0.20000002],\n",
              "         [0.20784315, 0.20784315, 0.20784315]],\n",
              "\n",
              "        [[0.08235294, 0.08235294, 0.08235294],\n",
              "         [0.08235294, 0.08235294, 0.08235294],\n",
              "         [0.08235294, 0.08235294, 0.08235294],\n",
              "         ...,\n",
              "         [0.19607845, 0.19607845, 0.19607845],\n",
              "         [0.18823531, 0.18823531, 0.18823531],\n",
              "         [0.19607845, 0.19607845, 0.19607845]],\n",
              "\n",
              "        [[0.08235294, 0.08235294, 0.08235294],\n",
              "         [0.08235294, 0.08235294, 0.08235294],\n",
              "         [0.07843138, 0.07843138, 0.07843138],\n",
              "         ...,\n",
              "         [0.20000002, 0.20000002, 0.20000002],\n",
              "         [0.19607845, 0.19607845, 0.19607845],\n",
              "         [0.20392159, 0.20392159, 0.20392159]],\n",
              "\n",
              "        ...,\n",
              "\n",
              "        [[0.14509805, 0.14509805, 0.14509805],\n",
              "         [0.11764707, 0.11764707, 0.11764707],\n",
              "         [0.08235294, 0.08235294, 0.08235294],\n",
              "         ...,\n",
              "         [0.18823531, 0.18823531, 0.18823531],\n",
              "         [0.06666667, 0.06666667, 0.06666667],\n",
              "         [0.13333334, 0.13333334, 0.13333334]],\n",
              "\n",
              "        [[0.07058824, 0.07058824, 0.07058824],\n",
              "         [0.09411766, 0.09411766, 0.09411766],\n",
              "         [0.08235294, 0.08235294, 0.08235294],\n",
              "         ...,\n",
              "         [0.2627451 , 0.2627451 , 0.2627451 ],\n",
              "         [0.0509804 , 0.0509804 , 0.0509804 ],\n",
              "         [0.04705883, 0.04705883, 0.04705883]],\n",
              "\n",
              "        [[0.07450981, 0.07450981, 0.07450981],\n",
              "         [0.05490196, 0.05490196, 0.05490196],\n",
              "         [0.08235294, 0.08235294, 0.08235294],\n",
              "         ...,\n",
              "         [0.07450981, 0.07450981, 0.07450981],\n",
              "         [0.        , 0.        , 0.        ],\n",
              "         [0.05490196, 0.05490196, 0.05490196]]],\n",
              "\n",
              "\n",
              "       [[[0.54509807, 0.54509807, 0.54509807],\n",
              "         [0.52156866, 0.52156866, 0.52156866],\n",
              "         [0.43137258, 0.43137258, 0.43137258],\n",
              "         ...,\n",
              "         [0.73333335, 0.73333335, 0.73333335],\n",
              "         [0.7725491 , 0.7725491 , 0.7725491 ],\n",
              "         [0.65882355, 0.65882355, 0.65882355]],\n",
              "\n",
              "        [[0.5764706 , 0.5764706 , 0.5764706 ],\n",
              "         [0.54901963, 0.54901963, 0.54901963],\n",
              "         [0.39607847, 0.39607847, 0.39607847],\n",
              "         ...,\n",
              "         [0.7372549 , 0.7372549 , 0.7372549 ],\n",
              "         [0.73333335, 0.73333335, 0.73333335],\n",
              "         [0.5568628 , 0.5568628 , 0.5568628 ]],\n",
              "\n",
              "        [[0.5882353 , 0.5882353 , 0.5882353 ],\n",
              "         [0.4666667 , 0.4666667 , 0.4666667 ],\n",
              "         [0.30980393, 0.30980393, 0.30980393],\n",
              "         ...,\n",
              "         [0.7686275 , 0.7686275 , 0.7686275 ],\n",
              "         [0.7568628 , 0.7568628 , 0.7568628 ],\n",
              "         [0.43137258, 0.43137258, 0.43137258]],\n",
              "\n",
              "        ...,\n",
              "\n",
              "        [[0.08235294, 0.08235294, 0.08235294],\n",
              "         [0.08235294, 0.08235294, 0.08235294],\n",
              "         [0.07843138, 0.07843138, 0.07843138],\n",
              "         ...,\n",
              "         [0.05490196, 0.05490196, 0.05490196],\n",
              "         [0.05490196, 0.05490196, 0.05490196],\n",
              "         [0.05490196, 0.05490196, 0.05490196]],\n",
              "\n",
              "        [[0.08235294, 0.08235294, 0.08235294],\n",
              "         [0.08235294, 0.08235294, 0.08235294],\n",
              "         [0.07843138, 0.07843138, 0.07843138],\n",
              "         ...,\n",
              "         [0.05490196, 0.05490196, 0.05490196],\n",
              "         [0.05490196, 0.05490196, 0.05490196],\n",
              "         [0.05490196, 0.05490196, 0.05490196]],\n",
              "\n",
              "        [[0.08235294, 0.08235294, 0.08235294],\n",
              "         [0.08235294, 0.08235294, 0.08235294],\n",
              "         [0.07843138, 0.07843138, 0.07843138],\n",
              "         ...,\n",
              "         [0.05490196, 0.05490196, 0.05490196],\n",
              "         [0.05490196, 0.05490196, 0.05490196],\n",
              "         [0.05490196, 0.05490196, 0.05490196]]]], dtype=float32)"
            ]
          },
          "metadata": {},
          "execution_count": 6
        }
      ]
    },
    {
      "cell_type": "markdown",
      "source": [
        "# Creating Method or Function"
      ],
      "metadata": {
        "id": "gAsnulrbprSg"
      }
    },
    {
      "cell_type": "code",
      "source": [
        "def plotLoss(history: pd.DataFrame):\n",
        "  plt.figure(figsize=(12,14))\n",
        "  plt.plot(history.index.values,\n",
        "           history['loss'], label='Traning Error', color='purple', linewidth=4)\n",
        "  plt.plot(history.index.values,\n",
        "           history['val_loss'], label='Validation Error', color='green', linewidth=4)\n",
        "  \n",
        "  plt.legend()\n",
        "  plt.grid(True)\n",
        "  plt.show()\n",
        "\n",
        "def plotAccuracy(history: pd.DataFrame):\n",
        "  plt.figure(figsize=(12,14))\n",
        "  plt.plot(history.index.values,\n",
        "           history['accuracy'], label='Training Accuracy', color='purple', linewidth=4)\n",
        "  plt.plot(history.index.values,\n",
        "           history['val_accuracy'], label='Validation Accuracy', color='green', linewidth=4)\n",
        "  \n",
        "  plt.legend()\n",
        "  plt.grid(True)\n",
        "  plt.show()"
      ],
      "metadata": {
        "id": "u1Ed5heLj_A3"
      },
      "execution_count": 34,
      "outputs": []
    },
    {
      "cell_type": "markdown",
      "source": [
        "# CNN"
      ],
      "metadata": {
        "id": "tR5T_GBXG8-o"
      }
    },
    {
      "cell_type": "markdown",
      "source": [
        "## Inialize / Model Building"
      ],
      "metadata": {
        "id": "v8GSL-L7HE1n"
      }
    },
    {
      "cell_type": "code",
      "source": [
        "cnn = tf.keras.Sequential([\n",
        "        # Convolution Feature Extraction                 # First layer is convolutional layer, normalization can also be applied, its optional\n",
        "        tf.keras.layers.Conv2D(                          # There are also 1D, 2D & 3D available\n",
        "           filters=32, kernel_size=(3,3),\n",
        "           strides=(1,1), activation='relu',\n",
        "           input_shape=(228, 228, 3), padding='same'     # Since its first layer, its dont know enough, so input spape must be defined, so that it can understand\n",
        "        ), \n",
        "\n",
        "\n",
        "        # Dimesionality Reduction                     # After 1st conv, there are so many dimenstion, that must be reduced\n",
        "        tf.keras.layers.MaxPool2D(                    # Maxpool 2D, becuause our filter/ Cov2D, so its must be 2D\n",
        "           pool_size=(2,2), strides=(1,1), padding='same'\n",
        "        ),\n",
        "\n",
        "        \n",
        "        # Batch Normalization                        # Batch Normalization works better for image processing\n",
        "        tf.keras.layers.BatchNormalization(),         # after normalization, still its in image for, so need to covert into 1D array\n",
        "        tf.keras.layers.Flatten(),                  # Flatting for converting 1D array\n",
        "\n",
        "\n",
        "        # fulluy Connected Network                            # Connecting Artifician Neuron Network\n",
        "        tf.keras.layers.Dense(units=128, activation='relu'),\n",
        "        tf.keras.layers.Dropout(rate=0.3, seed=42),              # regularization: dropout, earlystopping, cotroll randomness, seed 42\n",
        "        tf.keras.layers.Dense(units=2, activation='sigmoid')    # Binary : Unit 2 with sigmoid\n",
        "])"
      ],
      "metadata": {
        "id": "AMIBVsZ7r-tX"
      },
      "execution_count": 19,
      "outputs": []
    },
    {
      "cell_type": "markdown",
      "source": [
        "## Compilation"
      ],
      "metadata": {
        "id": "nqrVXkjXV5ud"
      }
    },
    {
      "cell_type": "code",
      "source": [
        "cnn.compile (\n",
        "    optimizer = 'adam',\n",
        "    loss = 'categorical_crossentropy', # For calculation loss of multi class / >= 2 class with integar \n",
        "    metrics = ['accuracy']\n",
        ")"
      ],
      "metadata": {
        "id": "mgoL9ePJV8gg"
      },
      "execution_count": 21,
      "outputs": []
    },
    {
      "cell_type": "code",
      "source": [
        "tf.config.experimental.list_physical_devices()"
      ],
      "metadata": {
        "colab": {
          "base_uri": "https://localhost:8080/"
        },
        "id": "q_6RovcuYtKJ",
        "outputId": "b346196e-69eb-4dc6-8645-ede40aad5e4d"
      },
      "execution_count": 22,
      "outputs": [
        {
          "output_type": "execute_result",
          "data": {
            "text/plain": [
              "[PhysicalDevice(name='/physical_device:CPU:0', device_type='CPU'),\n",
              " PhysicalDevice(name='/physical_device:GPU:0', device_type='GPU')]"
            ]
          },
          "metadata": {},
          "execution_count": 22
        }
      ]
    },
    {
      "cell_type": "code",
      "source": [],
      "metadata": {
        "id": "m9lV9NRVY0Xg"
      },
      "execution_count": null,
      "outputs": []
    },
    {
      "cell_type": "markdown",
      "source": [
        "## Fit the Model"
      ],
      "metadata": {
        "id": "_ZjEGfp8Y2eb"
      }
    },
    {
      "cell_type": "code",
      "source": [
        "with tf.device ('/device:GPU:0') :\n",
        "  cnn.fit(\n",
        "      train_images,\n",
        "      epochs = 25,\n",
        "      validation_data = valid_images\n",
        "\n",
        "  )"
      ],
      "metadata": {
        "colab": {
          "base_uri": "https://localhost:8080/"
        },
        "id": "HXCskhGPY4AA",
        "outputId": "5cc80bb9-0de6-4906-d3d7-88670af36388"
      },
      "execution_count": 23,
      "outputs": [
        {
          "output_type": "stream",
          "name": "stdout",
          "text": [
            "Epoch 1/25\n",
            "164/164 [==============================] - 1479s 9s/step - loss: 9.0910 - accuracy: 0.9047 - val_loss: 1.1624 - val_accuracy: 0.8526\n",
            "Epoch 2/25\n",
            "164/164 [==============================] - 66s 404ms/step - loss: 0.1459 - accuracy: 0.9513 - val_loss: 0.9290 - val_accuracy: 0.8029\n",
            "Epoch 3/25\n",
            "164/164 [==============================] - 65s 399ms/step - loss: 0.0999 - accuracy: 0.9645 - val_loss: 0.9659 - val_accuracy: 0.8638\n",
            "Epoch 4/25\n",
            "164/164 [==============================] - 66s 405ms/step - loss: 0.0634 - accuracy: 0.9737 - val_loss: 1.0847 - val_accuracy: 0.8333\n",
            "Epoch 5/25\n",
            "164/164 [==============================] - 65s 397ms/step - loss: 0.1203 - accuracy: 0.9555 - val_loss: 1.0060 - val_accuracy: 0.8894\n",
            "Epoch 6/25\n",
            "164/164 [==============================] - 65s 399ms/step - loss: 0.0636 - accuracy: 0.9712 - val_loss: 0.2855 - val_accuracy: 0.9295\n",
            "Epoch 7/25\n",
            "164/164 [==============================] - 67s 406ms/step - loss: 0.0450 - accuracy: 0.9807 - val_loss: 0.9931 - val_accuracy: 0.8558\n",
            "Epoch 8/25\n",
            "164/164 [==============================] - 66s 402ms/step - loss: 0.0441 - accuracy: 0.9857 - val_loss: 1.1302 - val_accuracy: 0.8910\n",
            "Epoch 9/25\n",
            "164/164 [==============================] - 66s 404ms/step - loss: 0.0399 - accuracy: 0.9845 - val_loss: 1.5038 - val_accuracy: 0.7933\n",
            "Epoch 10/25\n",
            "164/164 [==============================] - 65s 397ms/step - loss: 0.0430 - accuracy: 0.9857 - val_loss: 1.6025 - val_accuracy: 0.8221\n",
            "Epoch 11/25\n",
            "164/164 [==============================] - 65s 397ms/step - loss: 0.0848 - accuracy: 0.9754 - val_loss: 2.6415 - val_accuracy: 0.7756\n",
            "Epoch 12/25\n",
            "164/164 [==============================] - 66s 404ms/step - loss: 0.4512 - accuracy: 0.9399 - val_loss: 7501.9336 - val_accuracy: 0.3750\n",
            "Epoch 13/25\n",
            "164/164 [==============================] - 65s 397ms/step - loss: 1.4468 - accuracy: 0.7110 - val_loss: 2140.2222 - val_accuracy: 0.3750\n",
            "Epoch 14/25\n",
            "164/164 [==============================] - 65s 396ms/step - loss: 0.5556 - accuracy: 0.7785 - val_loss: 1.4726 - val_accuracy: 0.7676\n",
            "Epoch 15/25\n",
            "164/164 [==============================] - 66s 402ms/step - loss: 0.3362 - accuracy: 0.8345 - val_loss: 2.0118 - val_accuracy: 0.9151\n",
            "Epoch 16/25\n",
            "164/164 [==============================] - 65s 398ms/step - loss: 0.2499 - accuracy: 0.8897 - val_loss: 1.7126 - val_accuracy: 0.8654\n",
            "Epoch 17/25\n",
            "164/164 [==============================] - 66s 402ms/step - loss: 0.2386 - accuracy: 0.8950 - val_loss: 1.9873 - val_accuracy: 0.8766\n",
            "Epoch 18/25\n",
            "164/164 [==============================] - 65s 394ms/step - loss: 0.2352 - accuracy: 0.8921 - val_loss: 1.5553 - val_accuracy: 0.8702\n",
            "Epoch 19/25\n",
            "164/164 [==============================] - 65s 395ms/step - loss: 0.2138 - accuracy: 0.9078 - val_loss: 1.8252 - val_accuracy: 0.9167\n",
            "Epoch 20/25\n",
            "164/164 [==============================] - 66s 402ms/step - loss: 0.2127 - accuracy: 0.9175 - val_loss: 6.9425 - val_accuracy: 0.6955\n",
            "Epoch 21/25\n",
            "164/164 [==============================] - 65s 395ms/step - loss: 0.2584 - accuracy: 0.8977 - val_loss: 4.1360 - val_accuracy: 0.8750\n",
            "Epoch 22/25\n",
            "164/164 [==============================] - 65s 394ms/step - loss: 0.2753 - accuracy: 0.8816 - val_loss: 2.6997 - val_accuracy: 0.8958\n",
            "Epoch 23/25\n",
            "164/164 [==============================] - 66s 401ms/step - loss: 0.1952 - accuracy: 0.9183 - val_loss: 2.3774 - val_accuracy: 0.8269\n",
            "Epoch 24/25\n",
            "164/164 [==============================] - 65s 397ms/step - loss: 0.1940 - accuracy: 0.9154 - val_loss: 3.2369 - val_accuracy: 0.8686\n",
            "Epoch 25/25\n",
            "164/164 [==============================] - 66s 402ms/step - loss: 0.1900 - accuracy: 0.9194 - val_loss: 2.2770 - val_accuracy: 0.9119\n"
          ]
        }
      ]
    },
    {
      "cell_type": "markdown",
      "source": [
        "# Model Summary"
      ],
      "metadata": {
        "id": "BkwgRkWQmyJM"
      }
    },
    {
      "cell_type": "code",
      "source": [
        "cnn.summary()"
      ],
      "metadata": {
        "colab": {
          "base_uri": "https://localhost:8080/"
        },
        "id": "tJMJ57j7mzRl",
        "outputId": "57d16168-b3f1-47dd-f4eb-7ee0f59a6a8a"
      },
      "execution_count": 24,
      "outputs": [
        {
          "output_type": "stream",
          "name": "stdout",
          "text": [
            "Model: \"sequential_1\"\n",
            "_________________________________________________________________\n",
            " Layer (type)                Output Shape              Param #   \n",
            "=================================================================\n",
            " conv2d_1 (Conv2D)           (None, 228, 228, 32)      896       \n",
            "                                                                 \n",
            " max_pooling2d_1 (MaxPooling  (None, 228, 228, 32)     0         \n",
            " 2D)                                                             \n",
            "                                                                 \n",
            " batch_normalization_1 (Batc  (None, 228, 228, 32)     128       \n",
            " hNormalization)                                                 \n",
            "                                                                 \n",
            " flatten_1 (Flatten)         (None, 1663488)           0         \n",
            "                                                                 \n",
            " dense_2 (Dense)             (None, 128)               212926592 \n",
            "                                                                 \n",
            " dropout_1 (Dropout)         (None, 128)               0         \n",
            "                                                                 \n",
            " dense_3 (Dense)             (None, 2)                 258       \n",
            "                                                                 \n",
            "=================================================================\n",
            "Total params: 212,927,874\n",
            "Trainable params: 212,927,810\n",
            "Non-trainable params: 64\n",
            "_________________________________________________________________\n"
          ]
        }
      ]
    },
    {
      "cell_type": "code",
      "source": [
        "hist = pd.DataFrame(cnn.history.history)\n",
        "hist"
      ],
      "metadata": {
        "colab": {
          "base_uri": "https://localhost:8080/",
          "height": 833
        },
        "id": "h8ZiVxEgm1sW",
        "outputId": "aae8a786-9ffc-4473-d269-17b2a91077e1"
      },
      "execution_count": 25,
      "outputs": [
        {
          "output_type": "execute_result",
          "data": {
            "text/plain": [
              "        loss  accuracy     val_loss  val_accuracy\n",
              "0   9.091019  0.904735     1.162362      0.852564\n",
              "1   0.145852  0.951317     0.929043      0.802885\n",
              "2   0.099924  0.964490     0.965923      0.863782\n",
              "3   0.063422  0.973654     1.084691      0.833333\n",
              "4   0.120331  0.955517     1.006022      0.889423\n",
              "5   0.063634  0.971172     0.285548      0.929487\n",
              "6   0.044965  0.980718     0.993068      0.855769\n",
              "7   0.044052  0.985682     1.130202      0.891026\n",
              "8   0.039936  0.984536     1.503837      0.793269\n",
              "9   0.043041  0.985682     1.602536      0.822115\n",
              "10  0.084816  0.975372     2.641493      0.775641\n",
              "11  0.451190  0.939863  7501.933594      0.375000\n",
              "12  1.446793  0.710958  2140.222168      0.375000\n",
              "13  0.555645  0.778541     1.472599      0.767628\n",
              "14  0.336220  0.834479     2.011779      0.915064\n",
              "15  0.249873  0.889653     1.712640      0.865385\n",
              "16  0.238612  0.894998     1.987332      0.876603\n",
              "17  0.235190  0.892134     1.555336      0.870192\n",
              "18  0.213788  0.907789     1.825217      0.916667\n",
              "19  0.212683  0.917526     6.942504      0.695513\n",
              "20  0.258366  0.897671     4.135989      0.875000\n",
              "21  0.275280  0.881634     2.699680      0.895833\n",
              "22  0.195190  0.918289     2.377421      0.826923\n",
              "23  0.194011  0.915426     3.236893      0.868590\n",
              "24  0.189950  0.919435     2.276980      0.911859"
            ],
            "text/html": [
              "\n",
              "  <div id=\"df-4bed7ed5-2ff8-4684-a975-39208c3e9787\">\n",
              "    <div class=\"colab-df-container\">\n",
              "      <div>\n",
              "<style scoped>\n",
              "    .dataframe tbody tr th:only-of-type {\n",
              "        vertical-align: middle;\n",
              "    }\n",
              "\n",
              "    .dataframe tbody tr th {\n",
              "        vertical-align: top;\n",
              "    }\n",
              "\n",
              "    .dataframe thead th {\n",
              "        text-align: right;\n",
              "    }\n",
              "</style>\n",
              "<table border=\"1\" class=\"dataframe\">\n",
              "  <thead>\n",
              "    <tr style=\"text-align: right;\">\n",
              "      <th></th>\n",
              "      <th>loss</th>\n",
              "      <th>accuracy</th>\n",
              "      <th>val_loss</th>\n",
              "      <th>val_accuracy</th>\n",
              "    </tr>\n",
              "  </thead>\n",
              "  <tbody>\n",
              "    <tr>\n",
              "      <th>0</th>\n",
              "      <td>9.091019</td>\n",
              "      <td>0.904735</td>\n",
              "      <td>1.162362</td>\n",
              "      <td>0.852564</td>\n",
              "    </tr>\n",
              "    <tr>\n",
              "      <th>1</th>\n",
              "      <td>0.145852</td>\n",
              "      <td>0.951317</td>\n",
              "      <td>0.929043</td>\n",
              "      <td>0.802885</td>\n",
              "    </tr>\n",
              "    <tr>\n",
              "      <th>2</th>\n",
              "      <td>0.099924</td>\n",
              "      <td>0.964490</td>\n",
              "      <td>0.965923</td>\n",
              "      <td>0.863782</td>\n",
              "    </tr>\n",
              "    <tr>\n",
              "      <th>3</th>\n",
              "      <td>0.063422</td>\n",
              "      <td>0.973654</td>\n",
              "      <td>1.084691</td>\n",
              "      <td>0.833333</td>\n",
              "    </tr>\n",
              "    <tr>\n",
              "      <th>4</th>\n",
              "      <td>0.120331</td>\n",
              "      <td>0.955517</td>\n",
              "      <td>1.006022</td>\n",
              "      <td>0.889423</td>\n",
              "    </tr>\n",
              "    <tr>\n",
              "      <th>5</th>\n",
              "      <td>0.063634</td>\n",
              "      <td>0.971172</td>\n",
              "      <td>0.285548</td>\n",
              "      <td>0.929487</td>\n",
              "    </tr>\n",
              "    <tr>\n",
              "      <th>6</th>\n",
              "      <td>0.044965</td>\n",
              "      <td>0.980718</td>\n",
              "      <td>0.993068</td>\n",
              "      <td>0.855769</td>\n",
              "    </tr>\n",
              "    <tr>\n",
              "      <th>7</th>\n",
              "      <td>0.044052</td>\n",
              "      <td>0.985682</td>\n",
              "      <td>1.130202</td>\n",
              "      <td>0.891026</td>\n",
              "    </tr>\n",
              "    <tr>\n",
              "      <th>8</th>\n",
              "      <td>0.039936</td>\n",
              "      <td>0.984536</td>\n",
              "      <td>1.503837</td>\n",
              "      <td>0.793269</td>\n",
              "    </tr>\n",
              "    <tr>\n",
              "      <th>9</th>\n",
              "      <td>0.043041</td>\n",
              "      <td>0.985682</td>\n",
              "      <td>1.602536</td>\n",
              "      <td>0.822115</td>\n",
              "    </tr>\n",
              "    <tr>\n",
              "      <th>10</th>\n",
              "      <td>0.084816</td>\n",
              "      <td>0.975372</td>\n",
              "      <td>2.641493</td>\n",
              "      <td>0.775641</td>\n",
              "    </tr>\n",
              "    <tr>\n",
              "      <th>11</th>\n",
              "      <td>0.451190</td>\n",
              "      <td>0.939863</td>\n",
              "      <td>7501.933594</td>\n",
              "      <td>0.375000</td>\n",
              "    </tr>\n",
              "    <tr>\n",
              "      <th>12</th>\n",
              "      <td>1.446793</td>\n",
              "      <td>0.710958</td>\n",
              "      <td>2140.222168</td>\n",
              "      <td>0.375000</td>\n",
              "    </tr>\n",
              "    <tr>\n",
              "      <th>13</th>\n",
              "      <td>0.555645</td>\n",
              "      <td>0.778541</td>\n",
              "      <td>1.472599</td>\n",
              "      <td>0.767628</td>\n",
              "    </tr>\n",
              "    <tr>\n",
              "      <th>14</th>\n",
              "      <td>0.336220</td>\n",
              "      <td>0.834479</td>\n",
              "      <td>2.011779</td>\n",
              "      <td>0.915064</td>\n",
              "    </tr>\n",
              "    <tr>\n",
              "      <th>15</th>\n",
              "      <td>0.249873</td>\n",
              "      <td>0.889653</td>\n",
              "      <td>1.712640</td>\n",
              "      <td>0.865385</td>\n",
              "    </tr>\n",
              "    <tr>\n",
              "      <th>16</th>\n",
              "      <td>0.238612</td>\n",
              "      <td>0.894998</td>\n",
              "      <td>1.987332</td>\n",
              "      <td>0.876603</td>\n",
              "    </tr>\n",
              "    <tr>\n",
              "      <th>17</th>\n",
              "      <td>0.235190</td>\n",
              "      <td>0.892134</td>\n",
              "      <td>1.555336</td>\n",
              "      <td>0.870192</td>\n",
              "    </tr>\n",
              "    <tr>\n",
              "      <th>18</th>\n",
              "      <td>0.213788</td>\n",
              "      <td>0.907789</td>\n",
              "      <td>1.825217</td>\n",
              "      <td>0.916667</td>\n",
              "    </tr>\n",
              "    <tr>\n",
              "      <th>19</th>\n",
              "      <td>0.212683</td>\n",
              "      <td>0.917526</td>\n",
              "      <td>6.942504</td>\n",
              "      <td>0.695513</td>\n",
              "    </tr>\n",
              "    <tr>\n",
              "      <th>20</th>\n",
              "      <td>0.258366</td>\n",
              "      <td>0.897671</td>\n",
              "      <td>4.135989</td>\n",
              "      <td>0.875000</td>\n",
              "    </tr>\n",
              "    <tr>\n",
              "      <th>21</th>\n",
              "      <td>0.275280</td>\n",
              "      <td>0.881634</td>\n",
              "      <td>2.699680</td>\n",
              "      <td>0.895833</td>\n",
              "    </tr>\n",
              "    <tr>\n",
              "      <th>22</th>\n",
              "      <td>0.195190</td>\n",
              "      <td>0.918289</td>\n",
              "      <td>2.377421</td>\n",
              "      <td>0.826923</td>\n",
              "    </tr>\n",
              "    <tr>\n",
              "      <th>23</th>\n",
              "      <td>0.194011</td>\n",
              "      <td>0.915426</td>\n",
              "      <td>3.236893</td>\n",
              "      <td>0.868590</td>\n",
              "    </tr>\n",
              "    <tr>\n",
              "      <th>24</th>\n",
              "      <td>0.189950</td>\n",
              "      <td>0.919435</td>\n",
              "      <td>2.276980</td>\n",
              "      <td>0.911859</td>\n",
              "    </tr>\n",
              "  </tbody>\n",
              "</table>\n",
              "</div>\n",
              "      <button class=\"colab-df-convert\" onclick=\"convertToInteractive('df-4bed7ed5-2ff8-4684-a975-39208c3e9787')\"\n",
              "              title=\"Convert this dataframe to an interactive table.\"\n",
              "              style=\"display:none;\">\n",
              "        \n",
              "  <svg xmlns=\"http://www.w3.org/2000/svg\" height=\"24px\"viewBox=\"0 0 24 24\"\n",
              "       width=\"24px\">\n",
              "    <path d=\"M0 0h24v24H0V0z\" fill=\"none\"/>\n",
              "    <path d=\"M18.56 5.44l.94 2.06.94-2.06 2.06-.94-2.06-.94-.94-2.06-.94 2.06-2.06.94zm-11 1L8.5 8.5l.94-2.06 2.06-.94-2.06-.94L8.5 2.5l-.94 2.06-2.06.94zm10 10l.94 2.06.94-2.06 2.06-.94-2.06-.94-.94-2.06-.94 2.06-2.06.94z\"/><path d=\"M17.41 7.96l-1.37-1.37c-.4-.4-.92-.59-1.43-.59-.52 0-1.04.2-1.43.59L10.3 9.45l-7.72 7.72c-.78.78-.78 2.05 0 2.83L4 21.41c.39.39.9.59 1.41.59.51 0 1.02-.2 1.41-.59l7.78-7.78 2.81-2.81c.8-.78.8-2.07 0-2.86zM5.41 20L4 18.59l7.72-7.72 1.47 1.35L5.41 20z\"/>\n",
              "  </svg>\n",
              "      </button>\n",
              "      \n",
              "  <style>\n",
              "    .colab-df-container {\n",
              "      display:flex;\n",
              "      flex-wrap:wrap;\n",
              "      gap: 12px;\n",
              "    }\n",
              "\n",
              "    .colab-df-convert {\n",
              "      background-color: #E8F0FE;\n",
              "      border: none;\n",
              "      border-radius: 50%;\n",
              "      cursor: pointer;\n",
              "      display: none;\n",
              "      fill: #1967D2;\n",
              "      height: 32px;\n",
              "      padding: 0 0 0 0;\n",
              "      width: 32px;\n",
              "    }\n",
              "\n",
              "    .colab-df-convert:hover {\n",
              "      background-color: #E2EBFA;\n",
              "      box-shadow: 0px 1px 2px rgba(60, 64, 67, 0.3), 0px 1px 3px 1px rgba(60, 64, 67, 0.15);\n",
              "      fill: #174EA6;\n",
              "    }\n",
              "\n",
              "    [theme=dark] .colab-df-convert {\n",
              "      background-color: #3B4455;\n",
              "      fill: #D2E3FC;\n",
              "    }\n",
              "\n",
              "    [theme=dark] .colab-df-convert:hover {\n",
              "      background-color: #434B5C;\n",
              "      box-shadow: 0px 1px 3px 1px rgba(0, 0, 0, 0.15);\n",
              "      filter: drop-shadow(0px 1px 2px rgba(0, 0, 0, 0.3));\n",
              "      fill: #FFFFFF;\n",
              "    }\n",
              "  </style>\n",
              "\n",
              "      <script>\n",
              "        const buttonEl =\n",
              "          document.querySelector('#df-4bed7ed5-2ff8-4684-a975-39208c3e9787 button.colab-df-convert');\n",
              "        buttonEl.style.display =\n",
              "          google.colab.kernel.accessAllowed ? 'block' : 'none';\n",
              "\n",
              "        async function convertToInteractive(key) {\n",
              "          const element = document.querySelector('#df-4bed7ed5-2ff8-4684-a975-39208c3e9787');\n",
              "          const dataTable =\n",
              "            await google.colab.kernel.invokeFunction('convertToInteractive',\n",
              "                                                     [key], {});\n",
              "          if (!dataTable) return;\n",
              "\n",
              "          const docLinkHtml = 'Like what you see? Visit the ' +\n",
              "            '<a target=\"_blank\" href=https://colab.research.google.com/notebooks/data_table.ipynb>data table notebook</a>'\n",
              "            + ' to learn more about interactive tables.';\n",
              "          element.innerHTML = '';\n",
              "          dataTable['output_type'] = 'display_data';\n",
              "          await google.colab.output.renderOutput(dataTable, element);\n",
              "          const docLink = document.createElement('div');\n",
              "          docLink.innerHTML = docLinkHtml;\n",
              "          element.appendChild(docLink);\n",
              "        }\n",
              "      </script>\n",
              "    </div>\n",
              "  </div>\n",
              "  "
            ]
          },
          "metadata": {},
          "execution_count": 25
        }
      ]
    },
    {
      "cell_type": "markdown",
      "source": [
        "# Plotting Error"
      ],
      "metadata": {
        "id": "SmUzcwLRnKvV"
      }
    },
    {
      "cell_type": "code",
      "source": [
        "plotLoss(hist)"
      ],
      "metadata": {
        "colab": {
          "base_uri": "https://localhost:8080/",
          "height": 809
        },
        "id": "mCNL4IJcnHY1",
        "outputId": "34124a99-b3fa-48c2-c93f-1d37ee0cffe4"
      },
      "execution_count": 26,
      "outputs": [
        {
          "output_type": "display_data",
          "data": {
            "text/plain": [
              "<Figure size 864x1008 with 1 Axes>"
            ],
            "image/png": "[encoded data removed]"
          },
          "metadata": {
            "needs_background": "light"
          }
        }
      ]
    },
    {
      "cell_type": "markdown",
      "source": [
        "# Plotting Accuracy"
      ],
      "metadata": {
        "id": "TrlHzAA6neRB"
      }
    },
    {
      "cell_type": "code",
      "source": [
        "plotAccuracy(hist)"
      ],
      "metadata": {
        "colab": {
          "base_uri": "https://localhost:8080/",
          "height": 809
        },
        "id": "b6TOKrOxnPzl",
        "outputId": "9ac2273b-c15a-4302-cfc9-cae2f1d6821b"
      },
      "execution_count": 35,
      "outputs": [
        {
          "output_type": "display_data",
          "data": {
            "text/plain": [
              "<Figure size 864x1008 with 1 Axes>"
            ],
            "image/png": "[encoded data removed]"
          },
          "metadata": {
            "needs_background": "light"
          }
        }
      ]
    }
  ]
}